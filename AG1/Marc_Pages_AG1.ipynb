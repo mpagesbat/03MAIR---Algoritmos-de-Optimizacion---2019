{
  "nbformat": 4,
  "nbformat_minor": 0,
  "metadata": {
    "colab": {
      "name": "Marc Pages-AG1.ipynb",
      "provenance": [],
      "collapsed_sections": [],
      "include_colab_link": true
    },
    "kernelspec": {
      "name": "python3",
      "display_name": "Python 3"
    }
  },
  "cells": [
    {
      "cell_type": "markdown",
      "metadata": {
        "id": "view-in-github",
        "colab_type": "text"
      },
      "source": [
        "<a href=\"https://colab.research.google.com/github/mpagesbat/03MAIR---Algoritmos-de-Optimizacion---2019/blob/master/AG1/Marc_Pages_AG1.ipynb\" target=\"_parent\"><img src=\"https://colab.research.google.com/assets/colab-badge.svg\" alt=\"Open In Colab\"/></a>"
      ]
    },
    {
      "cell_type": "code",
      "metadata": {
        "id": "INtHfYrPeA4o",
        "colab_type": "code",
        "colab": {}
      },
      "source": [
        ""
      ],
      "execution_count": 0,
      "outputs": []
    },
    {
      "cell_type": "markdown",
      "metadata": {
        "id": "-DCY7fM_eIH5",
        "colab_type": "text"
      },
      "source": [
        "AG1. Algoritmos de optimizacion <br>\n",
        "Marc Pages <br>\n",
        "https://colab.research.google.com/drive/1sg9ec6MWmx-zcvGzjnW8KDsHQxj8485a"
      ]
    },
    {
      "cell_type": "markdown",
      "metadata": {
        "id": "a1Iwt7ueuWcy",
        "colab_type": "text"
      },
      "source": [
        "TORRES DE HANOI"
      ]
    },
    {
      "cell_type": "code",
      "metadata": {
        "id": "dQyFf3Barqyy",
        "colab_type": "code",
        "outputId": "eb0d32f4-9a09-4192-f8ee-13a6192b92b2",
        "colab": {
          "base_uri": "https://localhost:8080/",
          "height": 136
        }
      },
      "source": [
        "def torres (N,desde,hasta):\n",
        "  if N==1:\n",
        "    print(\"lleva la ficha desde\",desde,\"hasta\",hasta)\n",
        "  else:\n",
        "    torres(N-1,desde,6-desde-hasta)  #6-desde-hasta nos dice la torre que no es ni desde ni hasta.  ejemplo: vamos de 1 a 3=>  6 -1-3 =2 es la torre 2.     vamos de 2 a 3=> 6-2-3=1 es la torre 1\n",
        "    print(\"lleva la ficha desde\",desde,\"hasta\",hasta)\n",
        "    torres(N-1,6-desde-hasta,hasta)\n",
        "torres(3,1,3)"
      ],
      "execution_count": 0,
      "outputs": [
        {
          "output_type": "stream",
          "text": [
            "lleva la ficha desde 1 hastam 3\n",
            "lleva la ficha desde 1 hasta 2\n",
            "lleva la ficha desde 3 hastam 2\n",
            "lleva la ficha desde 1 hasta 3\n",
            "lleva la ficha desde 2 hastam 1\n",
            "lleva la ficha desde 2 hasta 3\n",
            "lleva la ficha desde 1 hastam 3\n"
          ],
          "name": "stdout"
        }
      ]
    },
    {
      "cell_type": "markdown",
      "metadata": {
        "id": "Ti57fN7JvKqd",
        "colab_type": "text"
      },
      "source": [
        "QUATRO REINAS"
      ]
    },
    {
      "cell_type": "code",
      "metadata": {
        "id": "pgKQHAbZrqpp",
        "colab_type": "code",
        "outputId": "8e8447ae-2b48-42ec-e1e6-c3082ea67a6a",
        "colab": {
          "base_uri": "https://localhost:8080/",
          "height": 119
        }
      },
      "source": [
        "\n",
        "def reinas(N,solucion,etapa):\n",
        "  for i in range(1,N+1):\n",
        "    solucion[etapa]=i\n",
        "\n",
        "    if es_prometedora(solucion,etapa):\n",
        "      if etapa==N-1:\n",
        "        print(\"\\nLasolucion es:\")\n",
        "        print(solucion)\n",
        "        #escribe(solucion)\n",
        "      else:\n",
        "        reinas(N,solucion,etapa+1)\n",
        "    else:\n",
        "      None\n",
        "    solucion[etapa]=0\n",
        "\n",
        "def es_prometedora(solucion,etapa):\n",
        "  for i in range(etapa+1):\n",
        "    if solucion.count(solucion[i])>1: return False\n",
        "    for j in range(i+1,etapa+1):\n",
        "      if abs(i-j)== abs(solucion[i]-solucion[j]) : return False\n",
        "  return True\n",
        "\n",
        "\n",
        "solucion=[0,0,0,0]\n",
        "reinas(4,solucion,0)\n"
      ],
      "execution_count": 0,
      "outputs": [
        {
          "output_type": "stream",
          "text": [
            "\n",
            "Lasolucion es:\n",
            "[2, 4, 1, 3]\n",
            "\n",
            "Lasolucion es:\n",
            "[3, 1, 4, 2]\n"
          ],
          "name": "stdout"
        }
      ]
    },
    {
      "cell_type": "markdown",
      "metadata": {
        "id": "lL8sDovIvAXo",
        "colab_type": "text"
      },
      "source": [
        "DOS PUNTOS MAS CERCANOS:"
      ]
    },
    {
      "cell_type": "code",
      "metadata": {
        "id": "xkJlYecDvJKJ",
        "colab_type": "code",
        "colab": {}
      },
      "source": [
        "#1D fuerza bruta\n",
        "import math\n",
        "b=0\n",
        "def puntos_cercanos(datos):\n",
        "    pt=[]\n",
        "    dist=999\n",
        "    for n in datos:\n",
        "            for m in datos:\n",
        "                if m>=n:\n",
        "                    b=3\n",
        "                else:\n",
        "                    if math.fabs(m-n)<dist:\n",
        "                        dist=math.fabs(m-n)\n",
        "                        punto1=datos.index(n)+1\n",
        "                        punto2=datos.index(m)+1\n",
        "                        valor1=n\n",
        "                        valor2=m\n",
        "    print(\"el primer punto es\",punto1,\"con valor\",valor1)\n",
        "    print(\"el segundo punto es\",punto2,\"con valor\",valor2)\n",
        "    print(\"los cuales la distancia es\",dist)            \n",
        "                \n",
        "a=[]\n",
        "for x in range(10):\n",
        "    a.append((np.random.randint(0,100)))\n",
        "print(a)\n",
        "puntos_cercanos(a)"
      ],
      "execution_count": 0,
      "outputs": []
    }
  ]
}