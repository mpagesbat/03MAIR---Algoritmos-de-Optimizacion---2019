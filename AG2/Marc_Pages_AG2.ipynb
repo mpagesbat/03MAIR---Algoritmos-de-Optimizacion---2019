{
  "nbformat": 4,
  "nbformat_minor": 0,
  "metadata": {
    "colab": {
      "name": "Marc Pages-AG2.ipynb",
      "provenance": [],
      "collapsed_sections": [],
      "authorship_tag": "ABX9TyPLAdvz9K4muASIIdrRdqdd",
      "include_colab_link": true
    },
    "kernelspec": {
      "name": "python3",
      "display_name": "Python 3"
    }
  },
  "cells": [
    {
      "cell_type": "markdown",
      "metadata": {
        "id": "view-in-github",
        "colab_type": "text"
      },
      "source": [
        "<a href=\"https://colab.research.google.com/github/mpagesbat/03MAIR---Algoritmos-de-Optimizacion---2019/blob/master/AG2/Marc_Pages_AG2.ipynb\" target=\"_parent\"><img src=\"https://colab.research.google.com/assets/colab-badge.svg\" alt=\"Open In Colab\"/></a>"
      ]
    },
    {
      "cell_type": "code",
      "metadata": {
        "id": "eidcCTZM7c3V",
        "colab_type": "code",
        "colab": {}
      },
      "source": [
        ""
      ],
      "execution_count": 0,
      "outputs": []
    },
    {
      "cell_type": "markdown",
      "metadata": {
        "id": "P2HNvcwN7tGu",
        "colab_type": "text"
      },
      "source": [
        "nombre: Marc Pagès <br>\n",
        "Link:https://colab.research.google.com/drive/1pTkP9wIwSqJJ9iL9t3UI8Ol3bFu_d6BB\n",
        "<br>Actividad Guiada 2"
      ]
    },
    {
      "cell_type": "markdown",
      "metadata": {
        "id": "bLzmZmoEMpVs",
        "colab_type": "text"
      },
      "source": [
        "**que complejidad tiene el algoritmo por fuerza bruta?**  Coste computacional n! <br>\n",
        "**a partir de que dimension el algoritmo por fuerza bruta deja de ser una opción?**<br>\n",
        "hemos medido el tiempo de ejecución con varias matrices de valores:<br>\n",
        "-dimension= 5  tiempo ejecución=0,028seg<br>\n",
        "-dimension= 6  tiempo ejecución=0,3616seg<br>\n",
        "-dimension= 7  tiempo ejecución=0,2,686seg<br>\n",
        "-dimension= 8  tiempo ejecución=26,03seg<br>\n",
        "-dimension= 9  tiempo ejecución=243,34seg<br>\n",
        "a partir de estas dimensiones, el algoritmo ya empieza a no ser bueno.\n",
        "\n",
        "\n",
        "**a partir de que dimension el algoritmo por ramificacion y poda deja de ser una opción?**<br>\n",
        "hemos medido el tiempo de ejecución con varias matrices de valores:<br>\n",
        "-dimension= 9  tiempo ejecución=0,08343seg<br>\n",
        "-dimension= 14  tiempo ejecución=4,92seg<br>\n",
        "-dimension= 15  tiempo ejecución=16,36seg<br>\n",
        "-dimension= 16  tiempo ejecución=26,03seg<br>\n",
        "a partir de estas dimensiones, el algoritmo ya empieza a no ser bueno.\n"
      ]
    },
    {
      "cell_type": "markdown",
      "metadata": {
        "id": "0s0tYFagTF01",
        "colab_type": "text"
      },
      "source": [
        "**PROBLEMA VIAJE POR EL RIO**"
      ]
    },
    {
      "cell_type": "code",
      "metadata": {
        "id": "BlECJEw58n-U",
        "colab_type": "code",
        "colab": {}
      },
      "source": [
        "TARIFAS = [\n",
        "[0,5,4,3,999,999,999],  #desde nodo 0\n",
        "[999,0,999,2,3,999,11],  #desde nodo 1\n",
        "[999,999, 0,1,999,4,10], #desde nodo 2\n",
        "[999,999,999, 0,5,6,9],\n",
        "[999,999, 999,999,0,999,4],\n",
        "[999,999, 999,999,999,0,3],\n",
        "[999,999,999,999,999,999,0]\n",
        "]\n",
        "def Precios(TARIFAS):\n",
        "################################################################  \n",
        "  #Total de Nodos\n",
        "  N = len(TARIFAS[0])\n",
        "  \n",
        "  #Inicialización de la tabla de precios\n",
        "  PRECIOS = [ [9999]*N for i in [9999]*N]\n",
        "  RUTA = [ [\"\"]*N for i in [\"\"]*N]\n",
        "  \n",
        "  for i in range(N-1):\n",
        "    for j in range(i+1, N):  \n",
        "      MIN = TARIFAS[i][j] #calculo coste i,j minimo\n",
        "      RUTA[i][j] = i  #guardo que nodo es\n",
        "      \n",
        "      for k in range(i, j):  #busco un nodo intermedio k que permita ir de i a j con menor coste\n",
        "        if PRECIOS[i][k] + TARIFAS[k][j] < MIN:\n",
        "            MIN = min(MIN, PRECIOS[i][k] + TARIFAS[k][j] )\n",
        "            RUTA[i][j] = k\n",
        "        PRECIOS[i][j] = MIN\n",
        "        \n",
        "  return PRECIOS,RUTA\n"
      ],
      "execution_count": 0,
      "outputs": []
    },
    {
      "cell_type": "code",
      "metadata": {
        "id": "IeFuJ6oh8n3v",
        "colab_type": "code",
        "outputId": "a1ed00be-db2e-43dc-a7bc-cc99b7b1095a",
        "colab": {
          "base_uri": "https://localhost:8080/",
          "height": 302
        }
      },
      "source": [
        "PRECIOS,RUTA = Precios(TARIFAS)  \n",
        "#print(PRECIOS[0][6])\n",
        "\n",
        "print(\"PRECIOS\")\n",
        "for i in range(len(TARIFAS)):\n",
        "  print(PRECIOS[i])\n",
        "\n",
        "print(\"\\nRUTA\")  \n",
        "for i in range(len(TARIFAS)):\n",
        "  print(RUTA[i]) \n",
        "  # la matriz ruta: ['', 0, 0, 0, 1, 2, 5]  de ir de 0 a 0 =>no existe  de ir de 0 a 1=>pasa por el 0, de ir de 0 a 2 => pasa por el 1, ir de 0 a 5 => pasa por el 2..."
      ],
      "execution_count": 0,
      "outputs": [
        {
          "output_type": "stream",
          "text": [
            "PRECIOS\n",
            "[9999, 5, 4, 3, 8, 8, 11]\n",
            "[9999, 9999, 999, 2, 3, 8, 7]\n",
            "[9999, 9999, 9999, 1, 6, 4, 7]\n",
            "[9999, 9999, 9999, 9999, 5, 6, 9]\n",
            "[9999, 9999, 9999, 9999, 9999, 999, 4]\n",
            "[9999, 9999, 9999, 9999, 9999, 9999, 3]\n",
            "[9999, 9999, 9999, 9999, 9999, 9999, 9999]\n",
            "\n",
            "RUTA\n",
            "['', 0, 0, 0, 1, 2, 5]\n",
            "['', '', 1, 1, 1, 3, 4]\n",
            "['', '', '', 2, 3, 2, 5]\n",
            "['', '', '', '', 3, 3, 3]\n",
            "['', '', '', '', '', 4, 4]\n",
            "['', '', '', '', '', '', 5]\n",
            "['', '', '', '', '', '', '']\n"
          ],
          "name": "stdout"
        }
      ]
    },
    {
      "cell_type": "code",
      "metadata": {
        "id": "MhZobhZEBRsn",
        "colab_type": "code",
        "outputId": "fbe8b45f-5cbc-4523-a7d6-a12a823b186c",
        "colab": {
          "base_uri": "https://localhost:8080/",
          "height": 67
        }
      },
      "source": [
        "def calcular_ruta(RUTA, desde, hasta):   #aplicamos recursividad\n",
        "  if desde == hasta:\n",
        "    #print(\"Ir a :\" + str(desde))\n",
        "    return desde \n",
        "  else:\n",
        "    return str(calcular_ruta(RUTA, desde, RUTA[desde][hasta])) +  ',' + str(RUTA[desde][hasta]) \n",
        "\n",
        "print(\"\\nLa ruta es:\")  \n",
        "calcular_ruta(RUTA, 0,6) #para ir de 0 a 6   (que vaya a 0(el 0 sale repetido) despues a 2 y despues a 5)"
      ],
      "execution_count": 0,
      "outputs": [
        {
          "output_type": "stream",
          "text": [
            "\n",
            "La ruta es:\n"
          ],
          "name": "stdout"
        },
        {
          "output_type": "execute_result",
          "data": {
            "text/plain": [
              "'0,0,2,5'"
            ]
          },
          "metadata": {
            "tags": []
          },
          "execution_count": 7
        }
      ]
    },
    {
      "cell_type": "markdown",
      "metadata": {
        "id": "4fb2cTsXDzY7",
        "colab_type": "text"
      },
      "source": [
        "**algoritmo ramificacion y poda: problema de asignación de agentes**\n"
      ]
    },
    {
      "cell_type": "code",
      "metadata": {
        "id": "kwzWcRJCD179",
        "colab_type": "code",
        "outputId": "dc5b3eb9-6810-44fb-a828-b3d036f3394a",
        "colab": {
          "base_uri": "https://localhost:8080/",
          "height": 101
        }
      },
      "source": [
        "import random\n",
        "import numpy as np\n",
        "from time import time\n",
        "\n",
        "COSTES = []\n",
        "n=4\n",
        "\n",
        "COSTES = np.random.randint(0, 100, size=(n, n))\n",
        "print(COSTES)\n",
        "\n",
        "#COSTES=[[11,12,18,40],\n",
        "#        [14,15,13,22],\n",
        "#        [11,17,19,23],\n",
        "#        [17,14,20,28]]    #filas=agentes columnas=tareas\n",
        "\n",
        "\n",
        "def valor(S,COSTES):\n",
        "  VALOR = 0\n",
        "  for i in range(len(S)):\n",
        "    VALOR += COSTES[S[i]][i] \n",
        "  return VALOR\n",
        "  \n",
        "valor((0, 1, 2, 3),COSTES)"
      ],
      "execution_count": 1,
      "outputs": [
        {
          "output_type": "stream",
          "text": [
            "[[42 22 68 39]\n",
            " [89 63 16 51]\n",
            " [58 84 21 11]\n",
            " [75 45 88 85]]\n"
          ],
          "name": "stdout"
        },
        {
          "output_type": "execute_result",
          "data": {
            "text/plain": [
              "211"
            ]
          },
          "metadata": {
            "tags": []
          },
          "execution_count": 1
        }
      ]
    },
    {
      "cell_type": "code",
      "metadata": {
        "id": "hdnNfncjx1cX",
        "colab_type": "code",
        "outputId": "36053441-51ff-455a-88a1-9f819dedac13",
        "colab": {
          "base_uri": "https://localhost:8080/",
          "height": 437
        }
      },
      "source": [
        "\n",
        "from time import time\n",
        "import itertools\n",
        "tiempo_inicial = time() \n",
        "#por fuerza bruta\n",
        "#coste computacional factorial n!\n",
        "def fuerza_bruta(COSTES):\n",
        "  mejor_valor=10e10\n",
        "  mejor_solucion=()\n",
        "  for s in list(itertools.permutations(range(len(COSTES)))):\n",
        "    valor_tmp=valor(s,COSTES)\n",
        "    if valor_tmp<mejor_valor:\n",
        "      mejor_valor=valor_tmp\n",
        "      mejor_solucion=s\n",
        "    print(\"la mejor solucion es:\",mejor_solucion,\"con valor:\",mejor_valor)\n",
        "fuerza_bruta(COSTES)\n",
        "tiempo_final = time() \n",
        " \n",
        "tiempo_ejecucion = tiempo_final - tiempo_inicial\n",
        "print(tiempo_ejecucion)"
      ],
      "execution_count": 2,
      "outputs": [
        {
          "output_type": "stream",
          "text": [
            "la mejor solucion es: (0, 1, 2, 3) con valor: 211\n",
            "la mejor solucion es: (0, 1, 3, 2) con valor: 204\n",
            "la mejor solucion es: (0, 1, 3, 2) con valor: 204\n",
            "la mejor solucion es: (0, 1, 3, 2) con valor: 204\n",
            "la mejor solucion es: (0, 3, 1, 2) con valor: 114\n",
            "la mejor solucion es: (0, 3, 1, 2) con valor: 114\n",
            "la mejor solucion es: (0, 3, 1, 2) con valor: 114\n",
            "la mejor solucion es: (0, 3, 1, 2) con valor: 114\n",
            "la mejor solucion es: (0, 3, 1, 2) con valor: 114\n",
            "la mejor solucion es: (0, 3, 1, 2) con valor: 114\n",
            "la mejor solucion es: (0, 3, 1, 2) con valor: 114\n",
            "la mejor solucion es: (0, 3, 1, 2) con valor: 114\n",
            "la mejor solucion es: (0, 3, 1, 2) con valor: 114\n",
            "la mejor solucion es: (0, 3, 1, 2) con valor: 114\n",
            "la mejor solucion es: (0, 3, 1, 2) con valor: 114\n",
            "la mejor solucion es: (0, 3, 1, 2) con valor: 114\n",
            "la mejor solucion es: (0, 3, 1, 2) con valor: 114\n",
            "la mejor solucion es: (0, 3, 1, 2) con valor: 114\n",
            "la mejor solucion es: (0, 3, 1, 2) con valor: 114\n",
            "la mejor solucion es: (0, 3, 1, 2) con valor: 114\n",
            "la mejor solucion es: (0, 3, 1, 2) con valor: 114\n",
            "la mejor solucion es: (0, 3, 1, 2) con valor: 114\n",
            "la mejor solucion es: (0, 3, 1, 2) con valor: 114\n",
            "la mejor solucion es: (0, 3, 1, 2) con valor: 114\n",
            "0.014495372772216797\n"
          ],
          "name": "stdout"
        }
      ]
    },
    {
      "cell_type": "code",
      "metadata": {
        "id": "sMwKwvxsVFSZ",
        "colab_type": "code",
        "colab": {}
      },
      "source": [
        "#Coste inferior para soluciones parciales\n",
        "#  (1,3,) Se asigna la tarea 1 al agente 0 y la tarea 3 al agente 1\n",
        "\n",
        "def CI(S,COSTES):\n",
        "  VALOR = 0\n",
        "  #Valores establecidos\n",
        "  for i in range(len(S)):\n",
        "    VALOR += COSTES[i][S[i]]\n",
        "\n",
        "  #Estimacion\n",
        "  for i in range(  len(COSTES)):\n",
        "    if i not in S:\n",
        "      VALOR += min( [ COSTES[j][i] for j in range(len(S), len(COSTES))  ])\n",
        "  return VALOR"
      ],
      "execution_count": 0,
      "outputs": []
    },
    {
      "cell_type": "code",
      "metadata": {
        "id": "kbT8QGIq045Y",
        "colab_type": "code",
        "colab": {}
      },
      "source": [
        "#Genera tantos hijos como como posibilidades haya para la siguiente elemento de la tupla\n",
        "#(0,) -> (0,1), (0,2), (0,3)\n",
        "def crear_hijos(NODO, N):\n",
        "  HIJOS = []\n",
        "  for i in range(N):\n",
        "    if i not in NODO:\n",
        "      HIJOS.append({'s':NODO +(i,)    })\n",
        "  return HIJOS"
      ],
      "execution_count": 0,
      "outputs": []
    },
    {
      "cell_type": "code",
      "metadata": {
        "id": "-EhoEgZQ1Wxj",
        "colab_type": "code",
        "colab": {}
      },
      "source": [
        "def CS(S,COSTES):     #cota superior\n",
        "  VALOR = 0\n",
        "  #Valores establecidos\n",
        "  for i in range(len(S)):\n",
        "    VALOR += COSTES[i][S[i]]\n",
        "\n",
        "  #Estimacion\n",
        "  for i in range(  len(COSTES)):\n",
        "    if i not in S:\n",
        "      VALOR += max( [ COSTES[j][i] for j in range(len(S), len(COSTES))  ])\n",
        "  return VALOR"
      ],
      "execution_count": 0,
      "outputs": []
    },
    {
      "cell_type": "code",
      "metadata": {
        "id": "ycxkPCBD1gKR",
        "colab_type": "code",
        "outputId": "52fbb0ae-d6fe-47d4-f3ce-e068f2e58b70",
        "colab": {
          "base_uri": "https://localhost:8080/",
          "height": 269
        }
      },
      "source": [
        "def ramificacion_y_poda(COSTES):\n",
        "#Construccion iterativa de soluciones(arbol). En cada etapa asignamos un agente(ramas).\n",
        "#Nodos del grafo  { s:(1,2),CI:3,CS:5  }\n",
        "  #print(COSTES)\n",
        "  DIMENSION = len(COSTES)  \n",
        "  MEJOR_SOLUCION=tuple( i for i in range(len(COSTES)) )\n",
        "  CotaSup = valor(MEJOR_SOLUCION,COSTES)\n",
        "  #print(\"Cota Superior:\", CotaSup)\n",
        "\n",
        "  NODOS=[]\n",
        "  NODOS.append({'s':(), 'ci':CI((),COSTES)    } )\n",
        "\n",
        "  iteracion = 0\n",
        "\n",
        "  while( len(NODOS) > 0): #mientras tenga nodos en mi lista\n",
        "    iteracion +=1\n",
        "\n",
        "    nodo_prometedor = [ min(NODOS, key=lambda x:x['ci']) ][0]['s']  #buscamos el nodo mas prometedor(estamos minimizando): la mejor cota inferior\n",
        "    #print(\"Nodo prometedor:\", nodo_prometedor)\n",
        "\n",
        "    #Ramificacion\n",
        "    #Se generan los hijos\n",
        "    HIJOS =[ {'s':x['s'], 'ci':CI(x['s'], COSTES)   } for x in crear_hijos(nodo_prometedor, DIMENSION) ]#creamos los hijos\n",
        "\n",
        "    #Revisamos la cota superior y nos quedamos con la mejor solucion si llegamos a una solucion final\n",
        "    NODO_FINAL = [x for x in HIJOS if len(x['s']) == DIMENSION  ]\n",
        "    if len(NODO_FINAL ) >0: \n",
        "      #print(\"\\n********Soluciones:\",  [x for x in HIJOS if len(x['s']) == DIMENSION  ] )\n",
        "      if NODO_FINAL[0]['ci'] < CotaSup:\n",
        "        CotaSup = NODO_FINAL[0]['ci']\n",
        "        MEJOR_SOLUCION = NODO_FINAL\n",
        " \n",
        "    #Poda\n",
        "    HIJOS = [x for x in HIJOS if x['ci'] < CotaSup   ] #podamos todos los hijos con cota mas grande que la superiror\n",
        "\n",
        "    #Añadimos los hijos \n",
        "    NODOS.extend(HIJOS) \n",
        "\n",
        "    #Eliminamos el nodo ramificado\n",
        "    NODOS =  [  x for x in NODOS if x['s'] != nodo_prometedor    ]\n",
        "   \n",
        "    print(\"La solucion final es:\" ,MEJOR_SOLUCION , \" en \" , iteracion , \" iteraciones\" , \" para dimension: \" ,DIMENSION  )\n",
        "tiempo_inicial = time()       \n",
        "ramificacion_y_poda(COSTES)\n",
        "tiempo_final = time() \n",
        " \n",
        "tiempo_ejecucion = tiempo_final - tiempo_inicial\n",
        "print(tiempo_ejecucion)"
      ],
      "execution_count": 6,
      "outputs": [
        {
          "output_type": "stream",
          "text": [
            "La solucion final es: (0, 1, 2, 3)  en  1  iteraciones  para dimension:  4\n",
            "La solucion final es: (0, 1, 2, 3)  en  2  iteraciones  para dimension:  4\n",
            "La solucion final es: (0, 1, 2, 3)  en  3  iteraciones  para dimension:  4\n",
            "La solucion final es: (0, 1, 2, 3)  en  4  iteraciones  para dimension:  4\n",
            "La solucion final es: (0, 1, 2, 3)  en  5  iteraciones  para dimension:  4\n",
            "La solucion final es: [{'s': (0, 2, 3, 1), 'ci': 114}]  en  6  iteraciones  para dimension:  4\n",
            "La solucion final es: [{'s': (0, 2, 3, 1), 'ci': 114}]  en  7  iteraciones  para dimension:  4\n",
            "La solucion final es: [{'s': (0, 2, 3, 1), 'ci': 114}]  en  8  iteraciones  para dimension:  4\n",
            "La solucion final es: [{'s': (0, 2, 3, 1), 'ci': 114}]  en  9  iteraciones  para dimension:  4\n",
            "La solucion final es: [{'s': (0, 2, 3, 1), 'ci': 114}]  en  10  iteraciones  para dimension:  4\n",
            "La solucion final es: [{'s': (0, 2, 3, 1), 'ci': 114}]  en  11  iteraciones  para dimension:  4\n",
            "La solucion final es: [{'s': (0, 2, 3, 1), 'ci': 114}]  en  12  iteraciones  para dimension:  4\n",
            "La solucion final es: [{'s': (0, 2, 3, 1), 'ci': 114}]  en  13  iteraciones  para dimension:  4\n",
            "La solucion final es: [{'s': (0, 2, 3, 1), 'ci': 114}]  en  14  iteraciones  para dimension:  4\n",
            "0.010283470153808594\n"
          ],
          "name": "stdout"
        }
      ]
    },
    {
      "cell_type": "code",
      "metadata": {
        "id": "AbR5mBio2hxU",
        "colab_type": "code",
        "colab": {}
      },
      "source": [
        ""
      ],
      "execution_count": 0,
      "outputs": []
    }
  ]
}