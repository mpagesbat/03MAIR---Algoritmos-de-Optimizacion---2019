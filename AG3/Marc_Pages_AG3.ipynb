{
  "nbformat": 4,
  "nbformat_minor": 0,
  "metadata": {
    "colab": {
      "name": "Marc Pages-AG3.ipynb",
      "provenance": [],
      "collapsed_sections": [],
      "authorship_tag": "ABX9TyMbU83xP2bf5sbQ8Qh0s9/f",
      "include_colab_link": true
    },
    "kernelspec": {
      "name": "python3",
      "display_name": "Python 3"
    }
  },
  "cells": [
    {
      "cell_type": "markdown",
      "metadata": {
        "id": "view-in-github",
        "colab_type": "text"
      },
      "source": [
        "<a href=\"https://colab.research.google.com/github/mpagesbat/03MAIR---Algoritmos-de-Optimizacion---2019/blob/master/AG3/Marc_Pages_AG3.ipynb\" target=\"_parent\"><img src=\"https://colab.research.google.com/assets/colab-badge.svg\" alt=\"Open In Colab\"/></a>"
      ]
    },
    {
      "cell_type": "code",
      "metadata": {
        "id": "BTqRXKkxkzzJ",
        "colab_type": "code",
        "colab": {}
      },
      "source": [
        ""
      ],
      "execution_count": 0,
      "outputs": []
    },
    {
      "cell_type": "markdown",
      "metadata": {
        "id": "aOVSvVgyk1jn",
        "colab_type": "text"
      },
      "source": [
        "\n",
        "\n",
        "AG3. Algoritmos de optimizacion <br>\n",
        "Marc Pages <br>\n",
        "https://colab.research.google.com/drive/1x-b4fmiWb5Nwx4oSnmRtx7m2egtVygyz"
      ]
    },
    {
      "cell_type": "code",
      "metadata": {
        "id": "6B0zKukprguZ",
        "colab_type": "code",
        "outputId": "6324df2d-2f0a-464a-924d-183c292e34de",
        "colab": {
          "base_uri": "https://localhost:8080/",
          "height": 221
        }
      },
      "source": [
        "!pip install requests\n",
        "\n",
        "!pip install tsplib95"
      ],
      "execution_count": 0,
      "outputs": [
        {
          "output_type": "stream",
          "text": [
            "Requirement already satisfied: requests in /usr/local/lib/python3.6/dist-packages (2.21.0)\n",
            "Requirement already satisfied: urllib3<1.25,>=1.21.1 in /usr/local/lib/python3.6/dist-packages (from requests) (1.24.3)\n",
            "Requirement already satisfied: idna<2.9,>=2.5 in /usr/local/lib/python3.6/dist-packages (from requests) (2.8)\n",
            "Requirement already satisfied: certifi>=2017.4.17 in /usr/local/lib/python3.6/dist-packages (from requests) (2019.11.28)\n",
            "Requirement already satisfied: chardet<3.1.0,>=3.0.2 in /usr/local/lib/python3.6/dist-packages (from requests) (3.0.4)\n",
            "Collecting tsplib95\n",
            "  Downloading https://files.pythonhosted.org/packages/dc/43/039c0621085202f19d6c12b06330bf109743083ce4024137b4713da9c40b/tsplib95-0.6.1-py2.py3-none-any.whl\n",
            "Requirement already satisfied: networkx~=2.1 in /usr/local/lib/python3.6/dist-packages (from tsplib95) (2.4)\n",
            "Requirement already satisfied: Click>=6.0 in /usr/local/lib/python3.6/dist-packages (from tsplib95) (7.0)\n",
            "Requirement already satisfied: decorator>=4.3.0 in /usr/local/lib/python3.6/dist-packages (from networkx~=2.1->tsplib95) (4.4.1)\n",
            "Installing collected packages: tsplib95\n",
            "Successfully installed tsplib95-0.6.1\n"
          ],
          "name": "stdout"
        }
      ]
    },
    {
      "cell_type": "code",
      "metadata": {
        "id": "hZ_6DYtfsOfE",
        "colab_type": "code",
        "outputId": "62025633-5595-4857-9857-9c39e8bf3b12",
        "colab": {
          "base_uri": "https://localhost:8080/",
          "height": 34
        }
      },
      "source": [
        "import urllib.request\n",
        "\n",
        "file = \"swiss42.tsp\"\n",
        "\n",
        "urllib.request.urlretrieve(\"http://elib.zib.de/pub/mp-testdata/tsp/tsplib/tsp/swiss42.tsp\", file)\n"
      ],
      "execution_count": 0,
      "outputs": [
        {
          "output_type": "execute_result",
          "data": {
            "text/plain": [
              "('swiss42.tsp', <http.client.HTTPMessage at 0x7f44793a8be0>)"
            ]
          },
          "metadata": {
            "tags": []
          },
          "execution_count": 2
        }
      ]
    },
    {
      "cell_type": "code",
      "metadata": {
        "id": "Z-IzyAgxs1dF",
        "colab_type": "code",
        "colab": {}
      },
      "source": [
        "import tsplib95\n",
        "import random\n",
        "import math"
      ],
      "execution_count": 0,
      "outputs": []
    },
    {
      "cell_type": "code",
      "metadata": {
        "id": "8Wp6_d5vtLWV",
        "colab_type": "code",
        "colab": {}
      },
      "source": [
        "problem = tsplib95.load_problem(file)"
      ],
      "execution_count": 0,
      "outputs": []
    },
    {
      "cell_type": "code",
      "metadata": {
        "id": "-brWGu-jtUyH",
        "colab_type": "code",
        "colab": {}
      },
      "source": [
        "Nodos=list(problem.get_nodes())\n",
        "Aristas=list(problem.get_edges())\n"
      ],
      "execution_count": 0,
      "outputs": []
    },
    {
      "cell_type": "markdown",
      "metadata": {
        "id": "LYB2hVM5uSpi",
        "colab_type": "text"
      },
      "source": [
        "SOLUCION ALEATORIA"
      ]
    },
    {
      "cell_type": "code",
      "metadata": {
        "id": "tfIj3RS5uV9Z",
        "colab_type": "code",
        "outputId": "b3829ea1-90d9-495e-a924-0d30eeb43518",
        "colab": {
          "base_uri": "https://localhost:8080/",
          "height": 34
        }
      },
      "source": [
        "#Se genera una solucion aleatoria con comienzo en en el nodo 0\n",
        "def crear_solucion(Nodos): \n",
        "  solucion = [0]\n",
        "  for i in range(len(Nodos)-1):\n",
        "    solucion = solucion + [random.choice(list(set(Nodos) - set(solucion)))]  #hacemos lista y despues set para que pueda funcionar la resta (aqui estamos calculando los nodos no elegidos)\n",
        "  return solucion\n",
        "# devuelve la distancia entre dos nodos\n",
        "\n",
        "def distancia(a,b,problem):\n",
        "  return problem.wfunc(a,b)\n",
        "\n",
        "#Devuelve la distancia total de una trayectoria\n",
        "def distancia_total(solucion, problem):\n",
        "  distancia_total = 0\n",
        "  for i in range(len(solucion)-1):\n",
        "    distancia_total += distancia(solucion[i] ,solucion[i+1] ,  problem)\n",
        "  return distancia_total + distancia(solucion[len(solucion)-1] ,solucion[0], problem)\n",
        "\n",
        "solucion=crear_solucion(Nodos)\n",
        "\n",
        "distancia_total(solucion,problem)\n",
        " \n"
      ],
      "execution_count": 0,
      "outputs": [
        {
          "output_type": "execute_result",
          "data": {
            "text/plain": [
              "4892"
            ]
          },
          "metadata": {
            "tags": []
          },
          "execution_count": 12
        }
      ]
    },
    {
      "cell_type": "code",
      "metadata": {
        "id": "3V6W_EuzxCrs",
        "colab_type": "code",
        "outputId": "afa92be7-b361-42ac-f02d-69e4c0d5f602",
        "colab": {
          "base_uri": "https://localhost:8080/",
          "height": 34
        }
      },
      "source": [
        "def busqueda_aleatoria(problem,N):\n",
        "  mejor_solucion=crear_solucion(Nodos)\n",
        "  mejor_valor = distancia_total(mejor_solucion, problem)\n",
        "\n",
        "  for i in range(N):\n",
        "    solucion=crear_solucion(Nodos)\n",
        "    valor = distancia_total(solucion,problem)\n",
        "    if valor<mejor_valor:\n",
        "      mejor_solucion=solucion\n",
        "      mejor_valor=valor\n",
        "  print(\"la mejor solucion es\",mejor_valor,mejor_solucion)\n",
        "busqueda_aleatoria(problem,1000)  #escogemos el numero de intentos  (normalmente da 3700, la mejor solucion encontrada es 1273)"
      ],
      "execution_count": 0,
      "outputs": [
        {
          "output_type": "stream",
          "text": [
            "la mejor solucion es 3802 [0, 18, 7, 34, 35, 38, 1, 32, 10, 25, 39, 22, 33, 16, 4, 3, 26, 15, 5, 13, 21, 28, 41, 2, 29, 8, 30, 12, 23, 9, 11, 24, 40, 31, 37, 17, 20, 27, 19, 14, 6, 36]\n"
          ],
          "name": "stdout"
        }
      ]
    },
    {
      "cell_type": "markdown",
      "metadata": {
        "id": "_Uhp0idtuShl",
        "colab_type": "text"
      },
      "source": [
        "BUSQUEDA LOCAL, GENERADOR DE VECINDAD\n",
        "hacemos intercambios 2-opt\n",
        "total=41*40/2 =820 posiblidades de intercambios   (el 2 es para quitar las simetricas)\n",
        "problema: tiende hacia minimos locales."
      ]
    },
    {
      "cell_type": "code",
      "metadata": {
        "id": "EOYrkdhFtUuW",
        "colab_type": "code",
        "colab": {}
      },
      "source": [
        "def genera_vecina(solucion):\n",
        "  #Generador de soluciones vecinas: 2-opt (intercambiar 2 nodos) Si hay N nodos se generan (N-1)x(N-2)/2 soluciones\n",
        "  #print(solucion)\n",
        "  mejor_solucion = []\n",
        "  mejor_distancia = 10e100\n",
        "  for i in range(1,len(solucion)-1):\n",
        "    for j in range(i+1, len(solucion)):\n",
        "      vecina = solucion[:i] + [solucion[j]] + solucion[i+1:j] + [solucion[i]] + solucion[j+1:]  #se eligen aleatoriamente 2 nodos y se intercambian\n",
        "      distancia_vecina = distancia_total(vecina, problem)\n",
        "      if distancia_vecina <= mejor_distancia:\n",
        "        mejor_distancia = distancia_vecina\n",
        "        mejor_solucion = vecina\n",
        "  #print(mejor_distancia,mejor_solucion)\n",
        "  return mejor_solucion\n",
        "      \n",
        "solucion = crear_solucion(Nodos)\n",
        "mejor_solucion = genera_vecina(solucion)\n",
        "\n",
        "\n"
      ],
      "execution_count": 0,
      "outputs": []
    },
    {
      "cell_type": "code",
      "metadata": {
        "id": "iPRXyJZ81iUw",
        "colab_type": "code",
        "outputId": "6f67d09a-00e2-46dd-9dd4-ffc482c5ea39",
        "colab": {
          "base_uri": "https://localhost:8080/",
          "height": 34
        }
      },
      "source": [
        "def busqueda_local(problem, N):\n",
        "  #problem = datos del problema\n",
        "  #N = numero de iteraciones\n",
        "  \n",
        "  mejor_solucion = []\n",
        "  mejor_distancia = 10e100\n",
        "  \n",
        "  solucion_referencia = crear_solucion(Nodos)\n",
        "  \n",
        "  for i in range(N):\n",
        "    vecina = genera_vecina(solucion_referencia)\n",
        "    distancia_vecina = distancia_total(vecina, problem)\n",
        "    if distancia_vecina <= mejor_distancia:\n",
        "      mejor_solucion = vecina\n",
        "      mejor_distancia = distancia_vecina\n",
        "        \n",
        "    solucion_referencia = vecina\n",
        "  print(\"La mejor solución encontrada es \" , mejor_distancia , mejor_solucion)\n",
        "\n",
        "busqueda_local(problem,1000)"
      ],
      "execution_count": 0,
      "outputs": [
        {
          "output_type": "stream",
          "text": [
            "La mejor solución encontrada es  1755 [0, 13, 19, 16, 14, 5, 6, 3, 2, 28, 29, 39, 24, 40, 21, 9, 8, 23, 41, 10, 25, 11, 12, 18, 26, 4, 32, 34, 33, 20, 31, 17, 37, 15, 7, 1, 27, 30, 22, 38, 35, 36]\n"
          ],
          "name": "stdout"
        }
      ]
    },
    {
      "cell_type": "markdown",
      "metadata": {
        "id": "6yrG2YDPy62D",
        "colab_type": "text"
      },
      "source": [
        "RECOCIDO SIMULADO\n"
      ]
    },
    {
      "cell_type": "code",
      "metadata": {
        "id": "l5x_EJLV6NEm",
        "colab_type": "code",
        "outputId": "10606825-6fbd-4f0b-bd86-af8977effe7d",
        "colab": {
          "base_uri": "https://localhost:8080/",
          "height": 51
        }
      },
      "source": [
        "def genera_vecina_aleatorio(solucion):\n",
        "  #Generador de 1 solucion vecina 2-opt (intercambiar 2 nodos)\n",
        "  #Se puede mejorar haciendo que la elección no se uniforme sino entre las que estén más proximas\n",
        "  i = random.choice(range(1, len(solucion)) )\n",
        "  j = random.choice(list(set(range(1, len(solucion))) - {i}))\n",
        "  if j<i:\n",
        "    i,j=j,i\n",
        "  vecina = list(solucion[:i] + [solucion[j]] + solucion[i+1:j] + [solucion[i]] + solucion[j+1:])  #se eligen aleatoriamente 2 nodos y se intercambian\n",
        "  return vecina\n",
        "solucion = crear_solucion(Nodos)\n",
        "print(solucion,\"\\n\",genera_vecina_aleatorio(solucion))\n",
        "#print(solucion,\"\\n\",genera_vecina_aleatorio(genera_vecina_aleatorio(solucion))) para cambiar 2 pares nodos (con recursividad)"
      ],
      "execution_count": 0,
      "outputs": [
        {
          "output_type": "stream",
          "text": [
            "[0, 17, 8, 25, 16, 26, 35, 12, 21, 13, 34, 1, 33, 4, 18, 37, 38, 32, 14, 39, 24, 7, 2, 41, 9, 36, 10, 6, 3, 29, 30, 19, 11, 31, 40, 15, 20, 27, 5, 28, 23, 22] \n",
            " [0, 17, 8, 25, 16, 26, 35, 12, 21, 13, 34, 1, 33, 4, 18, 15, 38, 32, 14, 39, 24, 7, 2, 41, 9, 36, 10, 6, 3, 29, 30, 19, 11, 31, 40, 37, 20, 27, 5, 28, 23, 22]\n"
          ],
          "name": "stdout"
        }
      ]
    },
    {
      "cell_type": "markdown",
      "metadata": {
        "id": "TEAsXL3V7HxM",
        "colab_type": "text"
      },
      "source": [
        "hemos intercambiado 2 nodos"
      ]
    },
    {
      "cell_type": "code",
      "metadata": {
        "id": "tCuFYs3M6NAT",
        "colab_type": "code",
        "colab": {}
      },
      "source": [
        "#Funcion de probabilidad para determinar si se cambia \n",
        "#    a una solución peor respecto a la de referencia(exponencial)\n",
        "def probabilidad(T,d):\n",
        "  if random.random() <= math.exp(-1*d / T)   :\n",
        "    return True\n",
        "  else:\n",
        "    return False\n",
        "\n",
        "\n",
        "def bajar_temperatura(T):\n",
        "  return T*.9999    # formula descenso exponencial (podemos coger otros como (descenso constante, criterio boltzmann...))"
      ],
      "execution_count": 0,
      "outputs": []
    },
    {
      "cell_type": "code",
      "metadata": {
        "id": "7fu1O8cCDIKL",
        "colab_type": "code",
        "outputId": "450c6233-a813-4e41-f5fa-8380b3c197c1",
        "colab": {
          "base_uri": "https://localhost:8080/",
          "height": 1000
        }
      },
      "source": [
        "#####################################################################\n",
        "def recocido_simulado(problem, TEMPERATURA=1000):\n",
        "  #problem = datos del problema\n",
        "\n",
        "  solucion_referencia = crear_solucion(Nodos)\n",
        "  distancia_referencia = distancia_total(solucion_referencia, problem)\n",
        "  \n",
        "  mejor_solucion = []\n",
        "  mejor_distancia = 10e100\n",
        "\n",
        "\n",
        "  while TEMPERATURA > 1:\n",
        "    #Genera una solución vecina(aleatoria)\n",
        "    vecina = genera_vecina_aleatorio(solucion_referencia) \n",
        "    \n",
        "    #Calcula su valor(distancia)\n",
        "    distancia_vecina = distancia_total(vecina, problem)\n",
        "    \n",
        "    #Si es la mejor solución de todas se guarda\n",
        "    if distancia_vecina < mejor_distancia:\n",
        "      mejor_solucion = vecina\n",
        "      mejor_distancia = distancia_vecina\n",
        "      print('\\t****Encontrada mejor solucion:', mejor_distancia , mejor_solucion, '\\n')\n",
        "    \n",
        "    #Si la nueva vecina es mejor se cambia y si es peor se cambia según \n",
        "    # una probabilidad dependiente de T y de |distancia_referencia - distancia_vecina|\n",
        "    p = probabilidad(TEMPERATURA, abs(distancia_referencia - distancia_vecina) )\n",
        "    if distancia_vecina < distancia_referencia or p :\n",
        "      solucion_referencia = vecina\n",
        "      distancia_referencia = distancia_vecina\n",
        "    \n",
        "    TEMPERATURA = bajar_temperatura(TEMPERATURA)\n",
        "\n",
        "  print(\"La mejor solución encontrada es :\" , mejor_distancia, mejor_solucion  )\n",
        "  return mejor_solucion\n",
        "\n",
        "sol = recocido_simulado(problem, TEMPERATURA=100000)"
      ],
      "execution_count": 0,
      "outputs": [
        {
          "output_type": "stream",
          "text": [
            "\t****Encontrada mejor solucion: 4441 [0, 18, 25, 15, 1, 5, 29, 8, 30, 33, 21, 23, 6, 37, 36, 24, 13, 40, 35, 32, 28, 41, 39, 34, 20, 12, 10, 38, 27, 31, 14, 16, 3, 17, 2, 26, 19, 9, 11, 22, 7, 4] \n",
            "\n",
            "\t****Encontrada mejor solucion: 4389 [0, 18, 25, 28, 1, 5, 29, 8, 30, 33, 21, 23, 6, 37, 36, 24, 2, 40, 35, 32, 15, 41, 39, 34, 20, 12, 10, 38, 27, 31, 14, 16, 3, 17, 13, 26, 19, 9, 11, 22, 7, 4] \n",
            "\n",
            "\t****Encontrada mejor solucion: 4370 [0, 10, 9, 22, 2, 29, 24, 41, 5, 11, 39, 34, 28, 18, 6, 26, 7, 15, 4, 20, 31, 40, 12, 17, 33, 37, 36, 35, 30, 25, 16, 1, 38, 14, 32, 8, 3, 21, 27, 13, 19, 23] \n",
            "\n",
            "\t****Encontrada mejor solucion: 4263 [0, 10, 9, 22, 2, 29, 24, 41, 5, 11, 39, 34, 28, 18, 6, 26, 7, 15, 4, 20, 31, 40, 12, 17, 33, 37, 36, 35, 30, 25, 16, 23, 38, 14, 32, 8, 3, 21, 27, 13, 19, 1] \n",
            "\n",
            "\t****Encontrada mejor solucion: 4230 [0, 1, 31, 35, 23, 25, 38, 34, 3, 6, 15, 29, 32, 9, 36, 17, 37, 13, 20, 8, 26, 5, 39, 18, 4, 19, 11, 14, 41, 21, 24, 10, 28, 22, 33, 12, 40, 16, 7, 2, 30, 27] \n",
            "\n",
            "\t****Encontrada mejor solucion: 4176 [0, 18, 32, 28, 15, 35, 34, 16, 7, 19, 36, 8, 4, 23, 22, 29, 20, 39, 30, 26, 41, 33, 31, 17, 14, 9, 27, 38, 10, 3, 5, 6, 1, 37, 24, 21, 11, 2, 40, 25, 12, 13] \n",
            "\n",
            "\t****Encontrada mejor solucion: 4088 [0, 3, 21, 34, 35, 27, 15, 19, 38, 20, 1, 33, 36, 17, 5, 41, 8, 29, 26, 39, 40, 22, 31, 16, 11, 7, 13, 4, 2, 32, 30, 6, 18, 23, 28, 9, 12, 37, 14, 25, 24, 10] \n",
            "\n",
            "\t****Encontrada mejor solucion: 4080 [0, 14, 7, 20, 34, 23, 9, 13, 6, 2, 16, 19, 12, 31, 37, 25, 24, 27, 35, 36, 17, 39, 30, 40, 18, 28, 10, 15, 41, 4, 33, 3, 32, 1, 26, 5, 8, 11, 22, 38, 29, 21] \n",
            "\n",
            "\t****Encontrada mejor solucion: 4007 [0, 37, 7, 20, 34, 23, 9, 13, 6, 2, 16, 19, 12, 31, 28, 25, 15, 27, 35, 36, 17, 39, 30, 40, 18, 14, 10, 24, 41, 4, 33, 3, 32, 1, 26, 5, 8, 11, 22, 38, 29, 21] \n",
            "\n",
            "\t****Encontrada mejor solucion: 3956 [0, 37, 36, 20, 34, 23, 9, 13, 6, 2, 16, 19, 12, 31, 28, 25, 15, 27, 35, 7, 17, 39, 30, 11, 18, 14, 10, 24, 41, 4, 33, 3, 32, 1, 26, 5, 8, 40, 22, 38, 29, 21] \n",
            "\n",
            "\t****Encontrada mejor solucion: 3954 [0, 30, 2, 20, 35, 36, 26, 4, 18, 15, 17, 40, 1, 11, 33, 23, 3, 13, 5, 9, 31, 37, 14, 19, 34, 27, 25, 41, 12, 16, 6, 10, 7, 8, 21, 39, 24, 29, 22, 32, 38, 28] \n",
            "\n",
            "\t****Encontrada mejor solucion: 3802 [0, 4, 37, 6, 2, 17, 36, 27, 22, 41, 38, 35, 31, 14, 10, 18, 32, 33, 15, 28, 11, 13, 19, 16, 30, 39, 8, 26, 1, 3, 25, 29, 5, 20, 34, 23, 40, 24, 9, 12, 21, 7] \n",
            "\n",
            "\t****Encontrada mejor solucion: 3705 [0, 4, 37, 6, 2, 17, 36, 27, 22, 41, 32, 35, 31, 14, 10, 18, 38, 33, 15, 12, 11, 13, 19, 16, 30, 39, 8, 26, 1, 3, 25, 29, 5, 20, 34, 23, 40, 24, 9, 28, 21, 7] \n",
            "\n",
            "\t****Encontrada mejor solucion: 3704 [0, 27, 11, 5, 1, 14, 6, 28, 2, 25, 22, 38, 34, 10, 33, 36, 32, 15, 17, 12, 3, 13, 23, 41, 29, 30, 7, 16, 26, 8, 35, 20, 37, 31, 4, 9, 18, 40, 24, 21, 39, 19] \n",
            "\n",
            "\t****Encontrada mejor solucion: 3653 [0, 39, 24, 9, 20, 21, 10, 23, 41, 11, 31, 13, 7, 8, 30, 18, 37, 15, 5, 26, 14, 19, 6, 3, 27, 36, 33, 34, 29, 32, 28, 16, 17, 2, 1, 4, 25, 40, 12, 22, 38, 35] \n",
            "\n",
            "\t****Encontrada mejor solucion: 3642 [0, 39, 24, 9, 20, 29, 10, 23, 41, 11, 15, 13, 7, 8, 30, 18, 37, 36, 5, 26, 14, 19, 6, 3, 27, 31, 33, 34, 21, 32, 28, 16, 17, 2, 1, 4, 25, 40, 12, 22, 38, 35] \n",
            "\n",
            "\t****Encontrada mejor solucion: 3626 [0, 39, 24, 9, 20, 29, 10, 25, 41, 11, 15, 13, 1, 8, 30, 18, 37, 36, 5, 26, 14, 19, 6, 3, 27, 31, 33, 34, 21, 32, 28, 16, 17, 2, 7, 4, 23, 40, 12, 22, 38, 35] \n",
            "\n",
            "\t****Encontrada mejor solucion: 3586 [0, 39, 24, 9, 22, 29, 10, 25, 41, 11, 15, 13, 1, 8, 30, 18, 37, 36, 5, 26, 14, 19, 6, 3, 27, 31, 33, 34, 21, 32, 28, 16, 17, 2, 7, 4, 23, 40, 12, 20, 38, 35] \n",
            "\n",
            "\t****Encontrada mejor solucion: 3576 [0, 39, 24, 9, 22, 29, 10, 25, 41, 11, 13, 15, 1, 8, 30, 18, 37, 35, 5, 26, 14, 19, 6, 3, 27, 31, 33, 34, 21, 32, 28, 16, 17, 2, 7, 4, 23, 40, 12, 20, 38, 36] \n",
            "\n",
            "\t****Encontrada mejor solucion: 3568 [0, 12, 9, 24, 8, 5, 1, 25, 28, 37, 31, 19, 16, 7, 15, 33, 20, 35, 36, 18, 13, 17, 26, 4, 27, 10, 21, 29, 41, 11, 30, 34, 38, 2, 6, 3, 40, 39, 22, 32, 23, 14] \n",
            "\n",
            "\t****Encontrada mejor solucion: 3300 [0, 5, 11, 41, 40, 27, 35, 31, 36, 17, 2, 26, 19, 14, 1, 28, 9, 4, 20, 37, 8, 3, 12, 6, 32, 34, 33, 39, 22, 30, 23, 29, 21, 24, 38, 18, 13, 15, 16, 7, 10, 25] \n",
            "\n",
            "\t****Encontrada mejor solucion: 3204 [0, 6, 26, 5, 13, 32, 14, 18, 25, 23, 17, 34, 9, 8, 22, 10, 11, 12, 29, 38, 2, 20, 33, 40, 21, 24, 39, 41, 30, 19, 37, 28, 7, 27, 3, 1, 36, 35, 16, 15, 31, 4] \n",
            "\n",
            "\t****Encontrada mejor solucion: 3185 [0, 1, 5, 13, 14, 36, 35, 15, 20, 31, 21, 6, 4, 33, 34, 30, 28, 19, 37, 18, 7, 17, 3, 32, 8, 41, 25, 11, 29, 22, 38, 23, 39, 12, 40, 24, 9, 10, 26, 2, 27, 16] \n",
            "\n",
            "\t****Encontrada mejor solucion: 3132 [0, 1, 5, 13, 14, 36, 35, 15, 17, 31, 21, 6, 4, 33, 34, 30, 28, 19, 37, 18, 7, 20, 3, 32, 8, 41, 25, 11, 29, 22, 38, 23, 39, 12, 40, 24, 9, 10, 26, 2, 27, 16] \n",
            "\n",
            "\t****Encontrada mejor solucion: 3097 [0, 1, 5, 13, 14, 36, 35, 15, 17, 31, 21, 39, 4, 33, 34, 30, 28, 19, 37, 18, 7, 20, 3, 32, 8, 41, 25, 11, 29, 22, 38, 23, 6, 12, 40, 24, 9, 10, 26, 2, 27, 16] \n",
            "\n",
            "\t****Encontrada mejor solucion: 3095 [0, 16, 37, 15, 31, 5, 1, 32, 36, 7, 10, 3, 30, 29, 18, 25, 24, 22, 8, 9, 34, 27, 20, 33, 38, 40, 21, 39, 4, 26, 2, 28, 41, 23, 19, 13, 6, 11, 12, 14, 17, 35] \n",
            "\n",
            "\t****Encontrada mejor solucion: 3057 [0, 16, 37, 15, 31, 5, 1, 32, 36, 7, 10, 3, 30, 29, 18, 25, 8, 22, 24, 9, 34, 27, 20, 33, 38, 40, 21, 39, 4, 26, 2, 28, 41, 23, 19, 13, 6, 11, 12, 14, 17, 35] \n",
            "\n",
            "\t****Encontrada mejor solucion: 3016 [0, 16, 37, 15, 31, 5, 1, 32, 36, 7, 10, 3, 30, 29, 23, 25, 8, 22, 24, 9, 34, 27, 20, 33, 38, 40, 21, 39, 4, 26, 2, 28, 41, 18, 19, 13, 6, 11, 12, 14, 17, 35] \n",
            "\n",
            "\t****Encontrada mejor solucion: 2963 [0, 6, 13, 3, 12, 18, 37, 36, 31, 35, 15, 26, 25, 8, 9, 38, 41, 10, 20, 33, 7, 1, 32, 23, 29, 21, 40, 24, 39, 11, 22, 34, 17, 4, 27, 30, 28, 2, 5, 19, 14, 16] \n",
            "\n",
            "\t****Encontrada mejor solucion: 2939 [0, 32, 31, 1, 7, 20, 34, 33, 22, 38, 24, 39, 21, 5, 12, 2, 37, 36, 6, 15, 14, 13, 17, 35, 18, 4, 28, 8, 9, 41, 23, 25, 3, 30, 40, 11, 10, 29, 27, 26, 19, 16] \n",
            "\n",
            "\t****Encontrada mejor solucion: 2926 [0, 32, 31, 1, 7, 20, 34, 33, 22, 38, 24, 39, 21, 5, 12, 2, 37, 15, 6, 36, 35, 13, 17, 14, 18, 4, 28, 8, 9, 41, 23, 25, 3, 30, 40, 11, 10, 29, 27, 26, 19, 16] \n",
            "\n",
            "\t****Encontrada mejor solucion: 2842 [0, 15, 14, 1, 13, 17, 35, 31, 36, 16, 37, 5, 9, 40, 21, 23, 18, 26, 4, 19, 6, 25, 33, 34, 20, 38, 39, 27, 28, 29, 32, 7, 8, 22, 24, 41, 10, 11, 12, 2, 3, 30] \n",
            "\n",
            "\t****Encontrada mejor solucion: 2837 [0, 15, 14, 1, 13, 17, 35, 31, 36, 16, 37, 5, 9, 40, 21, 23, 18, 26, 4, 19, 6, 25, 33, 34, 20, 38, 39, 27, 28, 29, 32, 7, 8, 22, 24, 41, 10, 11, 12, 30, 3, 2] \n",
            "\n",
            "\t****Encontrada mejor solucion: 2809 [0, 15, 14, 1, 30, 17, 35, 31, 36, 16, 37, 6, 9, 40, 21, 23, 18, 26, 4, 19, 5, 25, 33, 34, 20, 38, 39, 27, 28, 29, 32, 7, 8, 22, 24, 41, 10, 11, 12, 13, 2, 3] \n",
            "\n",
            "\t****Encontrada mejor solucion: 2791 [0, 15, 14, 25, 30, 17, 35, 31, 36, 16, 37, 6, 9, 40, 21, 23, 18, 26, 4, 19, 5, 1, 33, 34, 20, 38, 39, 27, 28, 29, 32, 7, 8, 22, 24, 41, 10, 11, 12, 13, 2, 3] \n",
            "\n",
            "\t****Encontrada mejor solucion: 2781 [0, 12, 23, 40, 39, 21, 32, 34, 1, 7, 15, 16, 14, 36, 35, 37, 28, 29, 38, 30, 4, 3, 8, 6, 19, 26, 17, 31, 33, 20, 25, 13, 5, 11, 18, 24, 22, 9, 41, 10, 2, 27] \n",
            "\n",
            "\t****Encontrada mejor solucion: 2773 [0, 12, 23, 40, 39, 21, 32, 20, 1, 7, 15, 16, 14, 36, 35, 37, 28, 29, 38, 30, 4, 3, 8, 6, 19, 26, 17, 31, 33, 34, 25, 13, 5, 11, 18, 24, 22, 9, 41, 10, 2, 27] \n",
            "\n",
            "\t****Encontrada mejor solucion: 2742 [0, 12, 23, 40, 39, 21, 32, 20, 1, 7, 15, 16, 14, 36, 35, 37, 28, 29, 38, 30, 4, 3, 8, 6, 19, 5, 17, 31, 33, 34, 25, 13, 26, 11, 18, 24, 22, 9, 41, 10, 2, 27] \n",
            "\n",
            "\t****Encontrada mejor solucion: 2727 [0, 12, 23, 40, 39, 21, 32, 20, 1, 7, 15, 16, 14, 36, 35, 37, 28, 29, 38, 30, 4, 3, 8, 6, 19, 5, 17, 31, 33, 34, 25, 13, 26, 11, 18, 9, 22, 24, 41, 10, 2, 27] \n",
            "\n",
            "\t****Encontrada mejor solucion: 2632 [0, 12, 23, 40, 39, 21, 32, 20, 1, 7, 15, 16, 14, 36, 35, 37, 28, 29, 38, 30, 4, 3, 18, 6, 19, 5, 17, 31, 33, 34, 25, 13, 26, 11, 8, 9, 22, 24, 41, 10, 2, 27] \n",
            "\n",
            "\t****Encontrada mejor solucion: 2631 [0, 12, 23, 40, 39, 21, 32, 20, 34, 7, 15, 16, 14, 36, 35, 37, 28, 29, 38, 30, 4, 3, 18, 6, 25, 5, 17, 31, 33, 1, 19, 13, 26, 11, 8, 9, 22, 24, 41, 10, 2, 27] \n",
            "\n",
            "\t****Encontrada mejor solucion: 2531 [0, 1, 6, 5, 19, 3, 41, 33, 34, 20, 31, 7, 37, 16, 14, 13, 18, 11, 10, 25, 23, 40, 8, 9, 32, 2, 28, 22, 38, 17, 15, 36, 35, 27, 30, 39, 21, 24, 29, 4, 12, 26] \n",
            "\n",
            "\t****Encontrada mejor solucion: 2471 [0, 1, 6, 5, 19, 3, 28, 33, 34, 20, 31, 7, 37, 16, 14, 13, 18, 11, 10, 25, 23, 40, 8, 9, 32, 2, 41, 22, 38, 17, 15, 36, 35, 27, 30, 39, 21, 24, 29, 4, 12, 26] \n",
            "\n",
            "\t****Encontrada mejor solucion: 2468 [0, 1, 6, 5, 19, 32, 28, 33, 34, 20, 31, 7, 37, 16, 14, 13, 18, 11, 10, 25, 23, 40, 8, 9, 3, 2, 41, 22, 38, 17, 15, 36, 35, 27, 30, 39, 21, 24, 29, 4, 12, 26] \n",
            "\n",
            "\t****Encontrada mejor solucion: 2464 [0, 1, 6, 5, 19, 32, 28, 33, 34, 20, 31, 7, 37, 16, 14, 13, 18, 11, 10, 41, 23, 40, 8, 9, 3, 2, 25, 22, 38, 17, 15, 36, 35, 27, 30, 39, 21, 24, 29, 4, 12, 26] \n",
            "\n",
            "\t****Encontrada mejor solucion: 2447 [0, 1, 6, 5, 19, 32, 30, 33, 34, 20, 31, 7, 37, 16, 14, 13, 18, 11, 10, 41, 23, 40, 8, 9, 3, 2, 25, 22, 38, 17, 15, 36, 35, 27, 28, 39, 21, 24, 29, 4, 12, 26] \n",
            "\n",
            "\t****Encontrada mejor solucion: 2437 [0, 14, 37, 7, 12, 8, 25, 11, 41, 22, 30, 27, 40, 24, 21, 39, 29, 4, 32, 33, 34, 20, 28, 18, 15, 16, 13, 19, 1, 17, 31, 36, 35, 38, 23, 9, 10, 26, 5, 6, 2, 3] \n",
            "\n",
            "\t****Encontrada mejor solucion: 2410 [0, 1, 14, 19, 6, 10, 27, 25, 12, 18, 8, 41, 22, 21, 39, 24, 40, 23, 9, 38, 34, 20, 33, 26, 11, 5, 16, 13, 31, 36, 35, 17, 37, 2, 3, 4, 29, 28, 30, 32, 7, 15] \n",
            "\n",
            "\t****Encontrada mejor solucion: 2323 [0, 1, 14, 19, 6, 10, 27, 25, 12, 11, 8, 41, 22, 21, 39, 24, 40, 23, 9, 38, 34, 20, 33, 26, 18, 5, 16, 13, 31, 36, 35, 17, 37, 2, 3, 4, 29, 28, 30, 32, 7, 15] \n",
            "\n",
            "\t****Encontrada mejor solucion: 2291 [0, 1, 14, 19, 16, 3, 10, 25, 12, 11, 22, 41, 23, 21, 39, 24, 40, 8, 9, 38, 34, 20, 33, 27, 18, 5, 26, 13, 31, 36, 35, 17, 15, 4, 6, 2, 29, 28, 30, 32, 7, 37] \n",
            "\n",
            "\t****Encontrada mejor solucion: 2284 [0, 1, 3, 19, 16, 14, 10, 25, 12, 11, 22, 41, 23, 21, 39, 24, 40, 8, 9, 38, 34, 20, 33, 27, 18, 26, 5, 13, 17, 36, 35, 7, 15, 4, 6, 2, 29, 28, 30, 32, 31, 37] \n",
            "\n",
            "\t****Encontrada mejor solucion: 2274 [0, 1, 3, 10, 7, 14, 19, 25, 12, 11, 23, 41, 22, 21, 39, 24, 40, 8, 9, 38, 34, 20, 33, 27, 18, 26, 5, 13, 37, 36, 35, 16, 15, 4, 6, 2, 29, 28, 30, 32, 31, 17] \n",
            "\n",
            "\t****Encontrada mejor solucion: 2271 [0, 27, 25, 4, 30, 28, 2, 6, 9, 41, 8, 39, 21, 24, 40, 22, 38, 3, 29, 32, 34, 20, 33, 17, 37, 14, 16, 7, 36, 35, 31, 15, 13, 19, 18, 12, 23, 10, 11, 5, 1, 26] \n",
            "\n",
            "\t****Encontrada mejor solucion: 2248 [0, 27, 25, 4, 30, 28, 2, 6, 9, 41, 8, 39, 21, 24, 40, 22, 38, 3, 29, 32, 34, 33, 20, 17, 37, 14, 16, 7, 36, 35, 31, 15, 13, 19, 18, 12, 23, 10, 11, 5, 1, 26] \n",
            "\n",
            "\t****Encontrada mejor solucion: 2236 [0, 27, 25, 4, 30, 28, 2, 6, 9, 41, 8, 40, 21, 24, 39, 22, 38, 3, 29, 32, 34, 33, 20, 17, 37, 14, 16, 7, 36, 35, 31, 15, 13, 19, 18, 12, 23, 10, 11, 5, 1, 26] \n",
            "\n",
            "\t****Encontrada mejor solucion: 2169 [0, 27, 25, 4, 30, 28, 2, 6, 9, 41, 8, 40, 21, 24, 39, 22, 38, 3, 29, 32, 34, 33, 20, 17, 37, 14, 16, 7, 36, 35, 31, 15, 13, 19, 18, 12, 23, 10, 11, 5, 26, 1] \n",
            "\n",
            "\t****Encontrada mejor solucion: 2120 [0, 27, 30, 4, 3, 28, 2, 6, 9, 41, 8, 40, 21, 24, 39, 22, 38, 25, 29, 32, 34, 33, 20, 17, 37, 14, 16, 7, 36, 35, 31, 15, 13, 19, 18, 12, 23, 10, 11, 5, 26, 1] \n",
            "\n",
            "\t****Encontrada mejor solucion: 2074 [0, 27, 30, 26, 3, 28, 2, 6, 9, 41, 8, 40, 21, 24, 39, 22, 38, 23, 29, 32, 34, 33, 20, 17, 37, 14, 16, 7, 36, 35, 31, 15, 13, 19, 18, 12, 25, 10, 11, 5, 4, 1] \n",
            "\n",
            "\t****Encontrada mejor solucion: 1984 [0, 27, 6, 1, 3, 28, 2, 30, 9, 41, 8, 40, 21, 24, 39, 22, 38, 23, 29, 32, 34, 33, 20, 17, 37, 14, 16, 7, 36, 35, 31, 15, 13, 19, 18, 12, 25, 10, 11, 5, 4, 26] \n",
            "\n",
            "\t****Encontrada mejor solucion: 1977 [0, 27, 6, 1, 3, 28, 2, 30, 9, 41, 8, 40, 21, 24, 39, 22, 38, 23, 29, 32, 34, 33, 20, 17, 37, 14, 16, 7, 36, 35, 31, 15, 13, 19, 18, 10, 25, 12, 11, 5, 4, 26] \n",
            "\n",
            "\t****Encontrada mejor solucion: 1956 [0, 1, 6, 27, 3, 28, 2, 30, 9, 23, 8, 40, 21, 24, 39, 22, 38, 41, 29, 32, 34, 33, 20, 17, 37, 14, 16, 7, 36, 35, 31, 15, 13, 19, 18, 10, 25, 12, 11, 5, 4, 26] \n",
            "\n",
            "\t****Encontrada mejor solucion: 1950 [0, 1, 26, 3, 27, 29, 2, 30, 41, 23, 8, 40, 21, 24, 39, 22, 38, 9, 28, 32, 34, 33, 20, 17, 37, 14, 16, 7, 36, 35, 31, 15, 13, 19, 18, 10, 25, 12, 11, 5, 4, 6] \n",
            "\n",
            "\t****Encontrada mejor solucion: 1880 [0, 1, 4, 3, 27, 29, 2, 30, 41, 23, 8, 40, 21, 24, 39, 22, 38, 9, 28, 32, 34, 33, 20, 17, 37, 14, 16, 7, 36, 35, 31, 15, 13, 19, 18, 10, 25, 12, 11, 5, 26, 6] \n",
            "\n",
            "\t****Encontrada mejor solucion: 1863 [0, 1, 4, 3, 30, 29, 2, 27, 41, 23, 8, 40, 21, 24, 39, 22, 38, 9, 28, 32, 34, 33, 20, 17, 37, 14, 16, 7, 36, 35, 31, 15, 13, 19, 18, 10, 25, 12, 11, 5, 26, 6] \n",
            "\n",
            "\t****Encontrada mejor solucion: 1858 [0, 32, 10, 5, 6, 4, 27, 2, 12, 11, 18, 25, 41, 23, 21, 40, 24, 39, 22, 38, 29, 9, 8, 30, 28, 34, 33, 20, 31, 17, 7, 1, 14, 16, 15, 37, 35, 36, 19, 13, 26, 3] \n",
            "\n",
            "\t****Encontrada mejor solucion: 1855 [0, 32, 10, 5, 6, 4, 27, 2, 12, 11, 18, 25, 41, 23, 21, 40, 24, 39, 22, 38, 29, 9, 8, 30, 28, 34, 33, 20, 31, 17, 7, 1, 14, 16, 15, 37, 36, 35, 19, 13, 26, 3] \n",
            "\n",
            "\t****Encontrada mejor solucion: 1854 [0, 28, 29, 5, 6, 4, 27, 2, 18, 12, 25, 11, 10, 23, 21, 40, 24, 39, 22, 38, 41, 9, 8, 30, 32, 20, 33, 34, 31, 17, 7, 1, 14, 16, 15, 35, 36, 37, 19, 13, 26, 3] \n",
            "\n",
            "\t****Encontrada mejor solucion: 1851 [0, 28, 29, 5, 6, 3, 27, 2, 18, 12, 25, 11, 10, 23, 21, 40, 24, 39, 22, 38, 41, 9, 8, 30, 32, 20, 33, 34, 31, 17, 7, 1, 14, 16, 15, 35, 36, 37, 19, 13, 26, 4] \n",
            "\n",
            "\t****Encontrada mejor solucion: 1832 [0, 30, 29, 4, 6, 3, 27, 2, 18, 12, 25, 11, 10, 23, 21, 40, 24, 39, 38, 22, 8, 9, 41, 28, 32, 20, 33, 34, 31, 17, 7, 1, 14, 16, 15, 35, 36, 37, 19, 13, 26, 5] \n",
            "\n",
            "\t****Encontrada mejor solucion: 1822 [0, 30, 29, 4, 6, 3, 27, 2, 18, 12, 25, 11, 10, 23, 21, 40, 24, 39, 38, 22, 8, 41, 9, 28, 32, 20, 33, 34, 31, 17, 7, 1, 14, 16, 15, 35, 36, 37, 19, 13, 26, 5] \n",
            "\n",
            "\t****Encontrada mejor solucion: 1818 [0, 28, 29, 3, 27, 4, 6, 26, 18, 11, 12, 25, 10, 9, 40, 21, 24, 39, 38, 22, 8, 41, 23, 30, 32, 20, 33, 34, 31, 17, 7, 14, 15, 16, 37, 35, 36, 19, 5, 13, 1, 2] \n",
            "\n",
            "\t****Encontrada mejor solucion: 1804 [0, 28, 29, 3, 27, 4, 6, 26, 18, 11, 12, 25, 10, 9, 40, 21, 24, 39, 38, 22, 23, 41, 8, 30, 32, 20, 33, 34, 31, 17, 37, 14, 15, 16, 7, 35, 36, 19, 5, 13, 1, 2] \n",
            "\n",
            "\t****Encontrada mejor solucion: 1801 [0, 28, 30, 3, 27, 4, 6, 26, 18, 11, 12, 25, 10, 9, 40, 21, 24, 39, 38, 22, 23, 41, 8, 29, 32, 20, 33, 34, 31, 17, 37, 14, 15, 16, 7, 35, 36, 19, 5, 13, 1, 2] \n",
            "\n",
            "\t****Encontrada mejor solucion: 1785 [0, 30, 28, 3, 27, 2, 4, 26, 18, 11, 12, 25, 10, 41, 40, 21, 24, 22, 38, 39, 8, 9, 23, 29, 32, 20, 33, 34, 31, 7, 37, 15, 16, 14, 17, 35, 36, 1, 5, 13, 19, 6] \n",
            "\n",
            "\t****Encontrada mejor solucion: 1710 [0, 2, 27, 28, 32, 3, 4, 5, 18, 8, 10, 11, 12, 25, 41, 23, 22, 38, 39, 24, 40, 21, 9, 29, 30, 34, 20, 33, 31, 17, 37, 16, 14, 15, 36, 35, 7, 6, 26, 13, 19, 1] \n",
            "\n",
            "\t****Encontrada mejor solucion: 1709 [0, 2, 27, 28, 32, 3, 4, 5, 18, 8, 10, 11, 12, 25, 41, 23, 22, 38, 39, 24, 40, 21, 9, 29, 30, 34, 20, 33, 31, 17, 37, 14, 16, 15, 36, 35, 7, 6, 26, 13, 19, 1] \n",
            "\n",
            "\t****Encontrada mejor solucion: 1681 [0, 3, 27, 32, 28, 2, 4, 26, 18, 8, 10, 11, 12, 25, 41, 23, 22, 38, 39, 24, 40, 21, 9, 29, 30, 34, 20, 33, 31, 17, 37, 15, 14, 16, 36, 35, 7, 6, 5, 13, 19, 1] \n",
            "\n",
            "\t****Encontrada mejor solucion: 1674 [0, 3, 27, 32, 28, 2, 4, 26, 18, 8, 10, 12, 11, 25, 41, 23, 39, 38, 22, 24, 40, 21, 9, 29, 30, 34, 20, 33, 31, 17, 37, 15, 14, 16, 36, 35, 7, 6, 5, 13, 19, 1] \n",
            "\n",
            "\t****Encontrada mejor solucion: 1651 [0, 3, 27, 32, 28, 2, 4, 26, 18, 8, 10, 12, 11, 25, 41, 23, 39, 38, 22, 24, 40, 21, 9, 29, 30, 34, 33, 20, 31, 17, 37, 15, 14, 16, 36, 35, 7, 6, 5, 13, 19, 1] \n",
            "\n",
            "\t****Encontrada mejor solucion: 1649 [0, 3, 27, 32, 28, 2, 4, 26, 18, 8, 10, 12, 11, 25, 41, 23, 22, 38, 39, 24, 40, 21, 9, 29, 30, 34, 33, 20, 31, 17, 37, 15, 14, 16, 36, 35, 7, 6, 5, 13, 19, 1] \n",
            "\n",
            "\t****Encontrada mejor solucion: 1647 [0, 32, 3, 27, 2, 28, 4, 26, 18, 8, 10, 12, 11, 25, 41, 23, 22, 38, 39, 24, 40, 21, 9, 29, 30, 34, 33, 20, 31, 17, 37, 15, 14, 16, 36, 35, 7, 6, 5, 13, 19, 1] \n",
            "\n",
            "\t****Encontrada mejor solucion: 1642 [0, 32, 3, 27, 2, 28, 4, 26, 18, 8, 10, 12, 11, 25, 41, 23, 22, 38, 39, 24, 40, 21, 9, 29, 30, 34, 33, 20, 31, 17, 37, 15, 14, 16, 36, 35, 7, 5, 13, 19, 6, 1] \n",
            "\n",
            "\t****Encontrada mejor solucion: 1630 [0, 1, 27, 28, 32, 2, 6, 26, 18, 12, 11, 25, 10, 8, 23, 41, 9, 39, 22, 38, 24, 40, 21, 29, 30, 34, 33, 20, 31, 7, 14, 16, 15, 37, 35, 36, 17, 19, 13, 5, 4, 3] \n",
            "\n",
            "\t****Encontrada mejor solucion: 1628 [0, 1, 32, 2, 27, 28, 4, 26, 18, 12, 11, 25, 10, 8, 23, 41, 9, 39, 22, 38, 24, 40, 21, 29, 30, 34, 33, 20, 31, 17, 7, 15, 14, 36, 35, 37, 16, 19, 13, 5, 6, 3] \n",
            "\n",
            "\t****Encontrada mejor solucion: 1616 [0, 1, 32, 28, 27, 2, 4, 26, 18, 12, 11, 25, 10, 8, 23, 41, 9, 39, 22, 38, 24, 40, 21, 29, 30, 34, 33, 20, 31, 17, 7, 15, 37, 36, 35, 14, 16, 13, 19, 5, 6, 3] \n",
            "\n",
            "\t****Encontrada mejor solucion: 1614 [0, 1, 32, 28, 27, 2, 4, 26, 18, 12, 11, 25, 10, 8, 23, 41, 9, 38, 22, 39, 24, 40, 21, 29, 30, 34, 33, 20, 31, 17, 7, 15, 37, 36, 35, 14, 16, 13, 19, 5, 6, 3] \n",
            "\n",
            "\t****Encontrada mejor solucion: 1603 [0, 3, 4, 32, 28, 27, 2, 26, 18, 12, 11, 25, 10, 8, 41, 23, 9, 29, 38, 22, 24, 40, 21, 39, 30, 34, 33, 20, 31, 17, 15, 16, 37, 36, 35, 7, 14, 19, 13, 5, 6, 1] \n",
            "\n",
            "\t****Encontrada mejor solucion: 1588 [0, 3, 2, 32, 28, 27, 4, 26, 18, 12, 11, 25, 10, 8, 41, 23, 9, 29, 38, 22, 24, 40, 21, 39, 30, 34, 33, 20, 31, 17, 15, 16, 37, 36, 35, 7, 14, 19, 13, 5, 6, 1] \n",
            "\n",
            "\t****Encontrada mejor solucion: 1585 [0, 3, 2, 28, 32, 27, 4, 26, 18, 12, 11, 25, 10, 8, 41, 23, 9, 29, 38, 22, 24, 40, 21, 39, 30, 34, 33, 20, 31, 7, 15, 16, 37, 36, 35, 17, 14, 19, 13, 5, 6, 1] \n",
            "\n",
            "\t****Encontrada mejor solucion: 1584 [0, 3, 2, 28, 32, 27, 4, 26, 18, 12, 11, 25, 10, 8, 41, 23, 9, 29, 38, 22, 24, 40, 21, 39, 30, 34, 33, 20, 31, 7, 14, 16, 37, 36, 35, 17, 15, 19, 13, 5, 6, 1] \n",
            "\n",
            "\t****Encontrada mejor solucion: 1559 [0, 3, 2, 27, 32, 28, 4, 26, 18, 12, 11, 25, 10, 8, 41, 23, 9, 29, 30, 22, 24, 40, 21, 39, 38, 34, 33, 20, 31, 15, 16, 14, 37, 17, 35, 36, 7, 19, 13, 5, 6, 1] \n",
            "\n",
            "\t****Encontrada mejor solucion: 1544 [0, 3, 2, 27, 32, 28, 4, 26, 18, 12, 11, 25, 10, 8, 41, 23, 9, 29, 30, 22, 24, 40, 21, 39, 38, 34, 33, 20, 31, 15, 16, 14, 37, 36, 35, 17, 7, 19, 13, 5, 6, 1] \n",
            "\n",
            "\t****Encontrada mejor solucion: 1543 [0, 3, 2, 27, 28, 32, 4, 26, 18, 12, 11, 25, 10, 8, 41, 23, 9, 29, 30, 22, 24, 40, 21, 39, 38, 34, 33, 20, 31, 15, 16, 14, 37, 36, 35, 17, 7, 19, 13, 5, 6, 1] \n",
            "\n",
            "\t****Encontrada mejor solucion: 1529 [0, 3, 2, 27, 28, 32, 4, 26, 18, 12, 11, 25, 10, 8, 41, 23, 9, 29, 30, 39, 21, 40, 24, 22, 38, 34, 33, 20, 31, 15, 16, 14, 37, 36, 35, 17, 7, 19, 13, 5, 6, 1] \n",
            "\n",
            "\t****Encontrada mejor solucion: 1519 [0, 32, 28, 2, 3, 27, 4, 26, 18, 12, 11, 25, 10, 8, 41, 23, 9, 29, 30, 39, 21, 40, 24, 22, 38, 34, 33, 20, 31, 17, 37, 15, 16, 36, 35, 7, 14, 19, 13, 5, 6, 1] \n",
            "\n",
            "\t****Encontrada mejor solucion: 1504 [0, 32, 28, 2, 27, 3, 4, 26, 18, 12, 11, 25, 10, 8, 41, 23, 9, 29, 30, 39, 21, 40, 24, 22, 38, 34, 33, 20, 31, 17, 37, 15, 16, 36, 35, 7, 14, 19, 13, 5, 6, 1] \n",
            "\n",
            "\t****Encontrada mejor solucion: 1501 [0, 32, 28, 27, 2, 3, 4, 26, 18, 12, 11, 25, 10, 8, 41, 23, 9, 29, 30, 39, 21, 40, 24, 22, 38, 34, 33, 20, 31, 17, 7, 15, 37, 36, 35, 16, 14, 19, 13, 5, 6, 1] \n",
            "\n",
            "\t****Encontrada mejor solucion: 1499 [0, 32, 28, 27, 2, 3, 4, 26, 18, 12, 11, 25, 10, 8, 41, 23, 9, 29, 30, 39, 21, 40, 24, 22, 38, 34, 33, 20, 31, 17, 7, 15, 37, 35, 36, 16, 14, 19, 13, 5, 6, 1] \n",
            "\n",
            "\t****Encontrada mejor solucion: 1498 [0, 32, 28, 27, 2, 3, 4, 26, 18, 12, 11, 25, 10, 8, 41, 23, 9, 29, 30, 39, 21, 40, 24, 22, 38, 34, 33, 20, 31, 17, 37, 15, 36, 35, 7, 16, 14, 19, 13, 5, 6, 1] \n",
            "\n",
            "\t****Encontrada mejor solucion: 1495 [0, 32, 28, 27, 2, 3, 4, 26, 18, 12, 11, 25, 10, 8, 41, 23, 9, 29, 30, 39, 21, 40, 24, 22, 38, 34, 33, 20, 31, 17, 37, 15, 36, 35, 7, 14, 16, 19, 13, 5, 6, 1] \n",
            "\n",
            "\t****Encontrada mejor solucion: 1486 [0, 32, 2, 28, 27, 3, 4, 26, 18, 12, 11, 25, 10, 8, 41, 23, 9, 29, 30, 39, 21, 40, 24, 22, 38, 34, 33, 20, 31, 7, 37, 17, 35, 36, 15, 14, 16, 19, 13, 5, 6, 1] \n",
            "\n",
            "\t****Encontrada mejor solucion: 1482 [0, 32, 2, 28, 27, 3, 4, 26, 18, 12, 11, 25, 10, 8, 41, 23, 9, 29, 30, 39, 21, 40, 24, 22, 38, 34, 33, 20, 31, 7, 37, 17, 35, 36, 15, 16, 14, 19, 13, 5, 6, 1] \n",
            "\n",
            "\t****Encontrada mejor solucion: 1477 [0, 32, 27, 28, 2, 3, 4, 26, 18, 12, 11, 25, 10, 8, 41, 23, 9, 29, 30, 39, 21, 40, 24, 22, 38, 34, 33, 20, 31, 17, 7, 36, 35, 37, 15, 14, 16, 19, 13, 5, 6, 1] \n",
            "\n",
            "\t****Encontrada mejor solucion: 1463 [0, 32, 28, 27, 2, 3, 4, 26, 18, 12, 11, 25, 10, 8, 41, 23, 9, 29, 30, 39, 21, 40, 24, 22, 38, 34, 33, 20, 31, 17, 37, 36, 35, 7, 15, 14, 16, 19, 13, 5, 6, 1] \n",
            "\n",
            "\t****Encontrada mejor solucion: 1452 [0, 32, 28, 27, 2, 3, 4, 26, 18, 12, 11, 25, 10, 8, 41, 23, 9, 29, 30, 39, 21, 40, 24, 22, 38, 34, 33, 20, 31, 7, 17, 36, 35, 37, 15, 14, 16, 19, 13, 5, 6, 1] \n",
            "\n",
            "\t****Encontrada mejor solucion: 1437 [0, 32, 28, 27, 2, 3, 4, 26, 18, 12, 11, 25, 10, 8, 41, 23, 9, 29, 30, 39, 21, 40, 24, 22, 38, 34, 33, 20, 7, 31, 35, 36, 17, 37, 15, 14, 16, 19, 13, 5, 6, 1] \n",
            "\n",
            "\t****Encontrada mejor solucion: 1433 [0, 32, 28, 27, 2, 3, 4, 26, 18, 12, 11, 25, 10, 8, 41, 23, 9, 29, 30, 39, 21, 40, 24, 22, 38, 34, 33, 20, 7, 31, 35, 36, 17, 37, 15, 16, 14, 19, 13, 5, 6, 1] \n",
            "\n",
            "La mejor solución encontrada es : 1433 [0, 32, 28, 27, 2, 3, 4, 26, 18, 12, 11, 25, 10, 8, 41, 23, 9, 29, 30, 39, 21, 40, 24, 22, 38, 34, 33, 20, 7, 31, 35, 36, 17, 37, 15, 16, 14, 19, 13, 5, 6, 1]\n"
          ],
          "name": "stdout"
        }
      ]
    },
    {
      "cell_type": "markdown",
      "metadata": {
        "id": "6vbB-j3fFXZw",
        "colab_type": "text"
      },
      "source": [
        "METODO CONSTRUCTIVO: COLONIA DE HORMIGAS"
      ]
    },
    {
      "cell_type": "code",
      "metadata": {
        "id": "JPNvqsGSFdCo",
        "colab_type": "code",
        "outputId": "fc01f4ff-033e-47de-dd67-f67995fbb493",
        "colab": {
          "base_uri": "https://localhost:8080/",
          "height": 51
        }
      },
      "source": [
        "#primera iteracion\n",
        "\n",
        "def Add_Nodo(problem, H ,T ) :    #poco eficiente, demasiado aleatoria\n",
        "  #Establecer una una funcion de probabilidad para \n",
        "  # añadir un nuevo nodo dependiendo de los nodos mas cercanos y de las feromonas depositadas\n",
        "  Nodos = list(problem.get_nodes())\n",
        "  return random.choice(   list(set(range(1,len(Nodos))) - set(H) )  )\n",
        "\n",
        "def Incrementa_Feromona(problem, T, H):\n",
        "  #Incrementar segun la calidad de la solución. Añadir una cantidad inversamente proporcional a la distancia total \n",
        "  for i in range(len(H)-1):\n",
        "    T[H[i]][H[i+1]] += 1000/distancia_total(H, problem)\n",
        "  return T\n",
        "\n",
        "def Evaporar_Feromonas(T):\n",
        "  #Podemos elegir diferentes funciones de evaporación dependiendo de la cantidad actual y de la suma total de feromonas depositadas,...\n",
        "  #Evapora 0.3 el valor de la feromona, sin que baje de 1\n",
        "  T = [[ max(T[i][j] - 0.3 , 1) for i in range(len(Nodos)) ] for j in range(len(Nodos))]\n",
        "  return T\n",
        "\n",
        "\n",
        "\n",
        "\n",
        "def hormigas(problem, N) :\n",
        "  #problem = datos del problema\n",
        "  #N = Número de agentes(hormigas)\n",
        "    \n",
        "  #Nodos\n",
        "  Nodos = list(problem.get_nodes())\n",
        "    #Aristas\n",
        "  Aristas = list(problem.get_edges()) \n",
        "  \n",
        "  #Inicializa las aristas con una cantidad inicial de feromonas:1\n",
        "  T = [[ 1 for _ in range(len(Nodos)) ] for _ in range(len(Nodos))]\n",
        "  \n",
        "  #Se generan los agentes(hormigas) que serán estructuras de caminos desde 0\n",
        "  Hormiga = [[0] for _ in range(N)]\n",
        "  #Recorre cada agente construyendo la solución\n",
        "  for h in range(N) :\n",
        "    #print(\"\\nAgente:\", h)\n",
        "    #Para cada agente se construye un camino\n",
        "    for i in range(len(Nodos)-1) :\n",
        "      \n",
        "      #Elige el siguiente nodo\n",
        "      Nuevo_Nodo = Add_Nodo(problem, Hormiga[h] ,T )\n",
        "      \n",
        "      Hormiga[h].append(Nuevo_Nodo)     \n",
        "    \n",
        "    #Incrementa feromonas en esa arista \n",
        "    T = Incrementa_Feromona(problem, T, Hormiga[h] )\n",
        "    #print(\"Feromonas(1)\", T)\n",
        "      \n",
        "    #Evapora Feromonas  \n",
        "    T = Evaporar_Feromonas(T)\n",
        "    #print(\"Feromonas(2)\", T)\n",
        "\n",
        "    #Seleccionamos el mejor agente\n",
        "  mejor_solucion = []\n",
        "  mejor_distancia = 10e100\n",
        "  for h in range(N) :\n",
        "    distancia_actual = distancia_total(Hormiga[h], problem)\n",
        "    if distancia_actual < mejor_distancia:\n",
        "      mejor_solucion = Hormiga[h]\n",
        "      mejor_distancia =distancia_actual\n",
        "  \n",
        "  \n",
        "  print(mejor_solucion)\n",
        "  print(mejor_distancia)\n",
        "\n",
        "hormigas(problem,1000)\n",
        "\n",
        "\n",
        "\n",
        "\n",
        "  "
      ],
      "execution_count": 0,
      "outputs": [
        {
          "output_type": "stream",
          "text": [
            "[0, 39, 24, 23, 10, 1, 40, 11, 19, 20, 36, 16, 33, 17, 22, 38, 34, 31, 9, 2, 8, 18, 32, 4, 29, 30, 5, 27, 3, 13, 35, 28, 37, 26, 41, 21, 25, 12, 14, 15, 6, 7]\n",
            "3936\n"
          ],
          "name": "stdout"
        }
      ]
    },
    {
      "cell_type": "markdown",
      "metadata": {
        "id": "waAEFY6bFXRI",
        "colab_type": "text"
      },
      "source": [
        ""
      ]
    }
  ]
}